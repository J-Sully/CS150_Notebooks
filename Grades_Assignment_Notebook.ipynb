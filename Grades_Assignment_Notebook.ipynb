{
 "cells": [
  {
   "cell_type": "markdown",
   "metadata": {},
   "source": [
    "# Homework for Student Grades Dataset"
   ]
  },
  {
   "cell_type": "markdown",
   "metadata": {},
   "source": [
    "Configures matplotlib to show figures embedded in notebook (removes necessity for plt.interactive and plt.show)"
   ]
  },
  {
   "cell_type": "code",
   "execution_count": 1,
   "metadata": {
    "collapsed": true
   },
   "outputs": [],
   "source": [
    "%matplotlib inline"
   ]
  },
  {
   "cell_type": "markdown",
   "metadata": {},
   "source": [
    "Boilerplate python modules:"
   ]
  },
  {
   "cell_type": "code",
   "execution_count": 2,
   "metadata": {
    "collapsed": true
   },
   "outputs": [],
   "source": [
    "from sklearn.linear_model import LogisticRegression\n",
    "import pandas as pd\n",
    "import numpy as np\n",
    "import seaborn as sns\n",
    "import matplotlib.pyplot as plt"
   ]
  },
  {
   "cell_type": "markdown",
   "metadata": {},
   "source": [
    "Load Transformed Data Set: Student Grades Transformed"
   ]
  },
  {
   "cell_type": "code",
   "execution_count": 3,
   "metadata": {},
   "outputs": [
    {
     "data": {
      "text/html": [
       "<div>\n",
       "<style>\n",
       "    .dataframe thead tr:only-child th {\n",
       "        text-align: right;\n",
       "    }\n",
       "\n",
       "    .dataframe thead th {\n",
       "        text-align: left;\n",
       "    }\n",
       "\n",
       "    .dataframe tbody tr th {\n",
       "        vertical-align: top;\n",
       "    }\n",
       "</style>\n",
       "<table border=\"1\" class=\"dataframe\">\n",
       "  <thead>\n",
       "    <tr style=\"text-align: right;\">\n",
       "      <th></th>\n",
       "      <th>Hours</th>\n",
       "      <th>Pass Fail</th>\n",
       "      <th>Grades</th>\n",
       "    </tr>\n",
       "  </thead>\n",
       "  <tbody>\n",
       "    <tr>\n",
       "      <th>0</th>\n",
       "      <td>0.50</td>\n",
       "      <td>FAIL</td>\n",
       "      <td>72.50</td>\n",
       "    </tr>\n",
       "    <tr>\n",
       "      <th>1</th>\n",
       "      <td>0.75</td>\n",
       "      <td>FAIL</td>\n",
       "      <td>73.75</td>\n",
       "    </tr>\n",
       "    <tr>\n",
       "      <th>2</th>\n",
       "      <td>1.00</td>\n",
       "      <td>FAIL</td>\n",
       "      <td>75.00</td>\n",
       "    </tr>\n",
       "    <tr>\n",
       "      <th>3</th>\n",
       "      <td>1.25</td>\n",
       "      <td>FAIL</td>\n",
       "      <td>76.25</td>\n",
       "    </tr>\n",
       "    <tr>\n",
       "      <th>4</th>\n",
       "      <td>1.50</td>\n",
       "      <td>FAIL</td>\n",
       "      <td>77.50</td>\n",
       "    </tr>\n",
       "  </tbody>\n",
       "</table>\n",
       "</div>"
      ],
      "text/plain": [
       "   Hours Pass Fail  Grades\n",
       "0   0.50      FAIL   72.50\n",
       "1   0.75      FAIL   73.75\n",
       "2   1.00      FAIL   75.00\n",
       "3   1.25      FAIL   76.25\n",
       "4   1.50      FAIL   77.50"
      ]
     },
     "execution_count": 3,
     "metadata": {},
     "output_type": "execute_result"
    }
   ],
   "source": [
    "df = pd.read_csv(\"/Users/jessie.sully/PycharmProjects/Data_150/data/Transposed studentgrades - Sheet1.csv\")\n",
    "df.head()"
   ]
  },
  {
   "cell_type": "markdown",
   "metadata": {},
   "source": [
    "## Question 1) _ What is the association between the number of hours spent studying and the probability that the student will pass the exam?_\n",
    "\n",
    "To answer this question, we will show a boxplot of Hours spent studying grouped by whether the student passed or failed"
   ]
  },
  {
   "cell_type": "code",
   "execution_count": 4,
   "metadata": {},
   "outputs": [
    {
     "data": {
      "text/html": [
       "<div>\n",
       "<style>\n",
       "    .dataframe thead tr:only-child th {\n",
       "        text-align: right;\n",
       "    }\n",
       "\n",
       "    .dataframe thead th {\n",
       "        text-align: left;\n",
       "    }\n",
       "\n",
       "    .dataframe tbody tr th {\n",
       "        vertical-align: top;\n",
       "    }\n",
       "</style>\n",
       "<table border=\"1\" class=\"dataframe\">\n",
       "  <thead>\n",
       "    <tr>\n",
       "      <th></th>\n",
       "      <th colspan=\"8\" halign=\"left\">Hours</th>\n",
       "    </tr>\n",
       "    <tr>\n",
       "      <th></th>\n",
       "      <th>count</th>\n",
       "      <th>mean</th>\n",
       "      <th>std</th>\n",
       "      <th>min</th>\n",
       "      <th>25%</th>\n",
       "      <th>50%</th>\n",
       "      <th>75%</th>\n",
       "      <th>max</th>\n",
       "    </tr>\n",
       "    <tr>\n",
       "      <th>Pass Fail</th>\n",
       "      <th></th>\n",
       "      <th></th>\n",
       "      <th></th>\n",
       "      <th></th>\n",
       "      <th></th>\n",
       "      <th></th>\n",
       "      <th></th>\n",
       "      <th></th>\n",
       "    </tr>\n",
       "  </thead>\n",
       "  <tbody>\n",
       "    <tr>\n",
       "      <th>FAIL</th>\n",
       "      <td>10.0</td>\n",
       "      <td>1.775</td>\n",
       "      <td>0.982132</td>\n",
       "      <td>0.50</td>\n",
       "      <td>1.0625</td>\n",
       "      <td>1.625</td>\n",
       "      <td>2.3750</td>\n",
       "      <td>3.5</td>\n",
       "    </tr>\n",
       "    <tr>\n",
       "      <th>PASS</th>\n",
       "      <td>10.0</td>\n",
       "      <td>3.800</td>\n",
       "      <td>1.246105</td>\n",
       "      <td>1.75</td>\n",
       "      <td>2.8750</td>\n",
       "      <td>4.125</td>\n",
       "      <td>4.6875</td>\n",
       "      <td>5.5</td>\n",
       "    </tr>\n",
       "  </tbody>\n",
       "</table>\n",
       "</div>"
      ],
      "text/plain": [
       "          Hours                                                   \n",
       "          count   mean       std   min     25%    50%     75%  max\n",
       "Pass Fail                                                         \n",
       "FAIL       10.0  1.775  0.982132  0.50  1.0625  1.625  2.3750  3.5\n",
       "PASS       10.0  3.800  1.246105  1.75  2.8750  4.125  4.6875  5.5"
      ]
     },
     "execution_count": 4,
     "metadata": {},
     "output_type": "execute_result"
    },
    {
     "data": {
      "image/png": "[encoded data removed]",
      "text/plain": [
       "<matplotlib.figure.Figure at 0x1183184a8>"
      ]
     },
     "metadata": {},
     "output_type": "display_data"
    }
   ],
   "source": [
    "sns.boxplot(x = 'Pass Fail', y = 'Hours', data = df)\n",
    "plt.title('Passing Grade vs. Hours Studying')\n",
    "df[['Hours','Pass Fail']].groupby('Pass Fail').describe()"
   ]
  },
  {
   "cell_type": "markdown",
   "metadata": {},
   "source": [
    "Conclusion: There is a clear difference in the distribution of hours studied between students that passed or failed. It appears that the students who studied 4+ hours had the highest probability of passing. \n",
    "\n",
    "## Question 2) _What are your predictions of a student passing if they spend 3.1 hours studying and if they spend 7 hours studying?_\n",
    "\n",
    "Here we will create a Logistic Regression model"
   ]
  },
  {
   "cell_type": "code",
   "execution_count": 5,
   "metadata": {},
   "outputs": [
    {
     "name": "stdout",
     "output_type": "stream",
     "text": [
      "Coefficients are  [[-0.92419996  0.75602391]]\n",
      "Checking the y-intercept  [-0.92419996]\n",
      "Score is  0.75\n"
     ]
    }
   ],
   "source": [
    "lr = LogisticRegression()\n",
    "# Required input variables to LogisticRegression\n",
    "# X : {array-like, sparse matrix}, shape (n_samples, n_features)\n",
    "# y : array-like, shape (n_samples,)\n",
    "X = np.column_stack((np.ones(len(df)), df['Hours']))\n",
    "y = df['Pass Fail']\n",
    "lr.fit(X, y)\n",
    "print(\"Coefficients are \", lr.coef_)\n",
    "# Note intercept is beta0 given above\n",
    "print(\"Checking the y-intercept \", lr.intercept_)\n",
    "# Note the score is not retunred by the LinearRegression object. It has to be computed from the input.\n",
    "print(\"Score is \", lr.score(X, y))"
   ]
  },
  {
   "cell_type": "markdown",
   "metadata": {},
   "source": [
    "The accuracy of our model is `0.75`, which makes it an \"okay\" model, but not great. "
   ]
  },
  {
   "cell_type": "code",
   "execution_count": 6,
   "metadata": {},
   "outputs": [
    {
     "name": "stdout",
     "output_type": "stream",
     "text": [
      "Probability of student passing with 3.1 hours studying is 0.621348110683\n",
      "Probability of student failing with 3.1 hours studying is 0.378651889317\n",
      "Probability of student passing with 7 hours studying is 0.969044728109\n",
      "Probability of student failing with 7 hours studying is 0.0309552718912\n"
     ]
    }
   ],
   "source": [
    "[prob_fail3, prob_pass3] = lr.predict_proba([[1, 3.1]])[0]\n",
    "print('Probability of student passing with 3.1 hours studying is ' + str(prob_pass3))\n",
    "print('Probability of student failing with 3.1 hours studying is ' + str(prob_fail3))\n",
    "\n",
    "[prob_fail7, prob_pass7] = lr.predict_proba([[1, 7]])[0]\n",
    "print('Probability of student passing with 7 hours studying is ' + str(prob_pass7))\n",
    "print('Probability of student failing with 7 hours studying is ' + str(prob_fail7))"
   ]
  },
  {
   "cell_type": "markdown",
   "metadata": {},
   "source": [
    "## Question 3) _How is the number of hours spent studying related to the grade the student earned?_\n",
    "\n",
    "We used the `lmplot` function in order to look at the relationship between hours spent studying and the grade earned"
   ]
  },
  {
   "cell_type": "code",
   "execution_count": 7,
   "metadata": {},
   "outputs": [
    {
     "name": "stdout",
     "output_type": "stream",
     "text": [
      "Correlation between hours spent studying and grade the student earned is: 0.951314433622\n"
     ]
    },
    {
     "data": {
      "image/png": "[encoded data removed]",
      "text/plain": [
       "<matplotlib.figure.Figure at 0x11b1490b8>"
      ]
     },
     "metadata": {},
     "output_type": "display_data"
    }
   ],
   "source": [
    "sns.lmplot('Hours', 'Grades', data=df, hue = 'Pass Fail', fit_reg=True)\n",
    "corr = df['Hours'].corr(df['Grades'])\n",
    "print('Correlation between hours spent studying and grade the student earned is: ' + str(corr))"
   ]
  },
  {
   "cell_type": "markdown",
   "metadata": {},
   "source": [
    "There is a near perfect positive correlation between number of hours spent studying and the grade earned. There is a small group of people who studied hard, but unfortunately did not pass. "
   ]
  }
 ],
 "metadata": {
  "kernelspec": {
   "display_name": "Python 3",
   "language": "python",
   "name": "python3"
  },
  "language_info": {
   "codemirror_mode": {
    "name": "ipython",
    "version": 3
   },
   "file_extension": ".py",
   "mimetype": "text/x-python",
   "name": "python",
   "nbconvert_exporter": "python",
   "pygments_lexer": "ipython3",
   "version": "3.6.3"
  }
 },
 "nbformat": 4,
 "nbformat_minor": 2
}
